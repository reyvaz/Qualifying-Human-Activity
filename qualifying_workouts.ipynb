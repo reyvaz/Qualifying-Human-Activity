{
 "cells": [
  {
   "cell_type": "markdown",
   "metadata": {},
   "source": [
    "#  Qualifying Human Activity\n",
    "***Reynaldo Vazquez***  \n",
    "***April, 2018***\n",
    "\n",
    "## Tests various classification algorithms on accelerometer data to qualify how individuals perform weight-lifting exercises\n",
    "\n",
    "<img src=\"media/bicep_emoji.png\" style=\"width:180px;height:180px;padding:5px\" align=\"right\">\n",
    "\n",
    "\n",
    "The best performing algorithms are a K-Nearest and a GBM Classifier with over **99.9% accuracy, precision, recall, and F1** on 5 classes. Both algorithms train and make predictions fast.\n",
    "\n",
    "Other classifiers reported here include a Multilayer Perceptron Network and a Random Forest, both attain over 99% accuracy as well.\n",
    "\n",
    "The dataset comes from Veloso et al., (2013) and it contains data from accelerometers on the belt, forearm, arm, and dumbbell from 6 individuals. The individuals performed one set of 10 repetitions of the unilateral dumbbell biceps curl in five different ways: (A) correctly; (B) throwing the elbows to the front; (C) lifting the dumbbell only halfway; (D) lowering the dumbbell only halfway; and (E) throwing the hips to the front. The original dataset and more information can be found [here](http://groupware.les.inf.puc-rio.br/har). The direct link to download the data is found [here](http://groupware.les.inf.puc-rio.br/static/WLE/WearableComputing_weight_lifting_exercises_biceps_curl_variations.csv). \n",
    "\n",
    "Subject identities and a few other variables were strapped from the original dataset to prevent data leakeage."
   ]
  },
  {
   "cell_type": "markdown",
   "metadata": {},
   "source": [
    "### Packages"
   ]
  },
  {
   "cell_type": "code",
   "execution_count": 1,
   "metadata": {},
   "outputs": [],
   "source": [
    "import pandas as pd\n",
    "import numpy as np\n",
    "import zipfile\n",
    "from sklearn.model_selection import train_test_split\n",
    "from sklearn import preprocessing, decomposition\n",
    "from sklearn.metrics import classification_report, accuracy_score\n",
    "from sklearn.neighbors import KNeighborsClassifier\n",
    "from sklearn.ensemble import GradientBoostingClassifier, RandomForestRegressor\n",
    "import sklearn.neural_network as nn\n",
    "from sklearn.metrics import confusion_matrix\n",
    "import matplotlib.pyplot as plt\n",
    "from cm_heat_plots import *\n",
    "import time\n",
    "%matplotlib inline"
   ]
  },
  {
   "cell_type": "markdown",
   "metadata": {},
   "source": [
    "### Data"
   ]
  },
  {
   "cell_type": "code",
   "execution_count": 2,
   "metadata": {},
   "outputs": [
    {
     "name": "stdout",
     "output_type": "stream",
     "text": [
      "Original data shape: (39242, 159)\n"
     ]
    }
   ],
   "source": [
    "# Original dataset name: WearableComputing_weight_lifting_exercises_biceps_curl_variations.csv\n",
    "df = pd.read_csv('biceps_curl_variations.csv', low_memory=False)\n",
    "print(\"Original data shape:\", df.shape)"
   ]
  },
  {
   "cell_type": "code",
   "execution_count": 3,
   "metadata": {},
   "outputs": [],
   "source": [
    "## Drop irrelevant first columns (they contain subject ID and record dates)\n",
    "df.drop(df.iloc[:, 0:6], inplace=True, axis=1)"
   ]
  },
  {
   "cell_type": "markdown",
   "metadata": {},
   "source": [
    "#### Manage NaNs\n",
    "A great number of culumns contain excessive NaNs, although they typically correspond to statistics. All columns with more than 50 percent NaN will be dropped.\n",
    "\n",
    "After dropping these columns, there remains 1 single row containing a NaN. It will be removed.\n",
    "\n",
    "Covariance, low variance, and normalizations for sensitive specifications will be handled with PCA reduction and whitening."
   ]
  },
  {
   "cell_type": "code",
   "execution_count": 4,
   "metadata": {},
   "outputs": [
    {
     "name": "stdout",
     "output_type": "stream",
     "text": [
      "Shape of data to be used: (39241, 53)\n"
     ]
    }
   ],
   "source": [
    "threshold = df.shape[0]*0.5\n",
    "nan_counts = df.isnull().sum()\n",
    "keep_cols = nan_counts[nan_counts < threshold].index\n",
    "data = df[keep_cols]\n",
    "data = data.dropna()\n",
    "print(\"Shape of data to be used:\", data.shape)"
   ]
  },
  {
   "cell_type": "code",
   "execution_count": 5,
   "metadata": {},
   "outputs": [],
   "source": [
    "data = data.sort_values(by=['classe']).reset_index()"
   ]
  },
  {
   "cell_type": "code",
   "execution_count": 6,
   "metadata": {},
   "outputs": [],
   "source": [
    "X = data.loc[:, data.columns != 'classe']\n",
    "Y = data['classe']"
   ]
  },
  {
   "cell_type": "markdown",
   "metadata": {},
   "source": [
    "#### Codify Y  labels"
   ]
  },
  {
   "cell_type": "code",
   "execution_count": 7,
   "metadata": {},
   "outputs": [
    {
     "name": "stdout",
     "output_type": "stream",
     "text": [
      "Classes:\n",
      "A, B, C, D, E\n"
     ]
    }
   ],
   "source": [
    "classes = Y.unique()\n",
    "Y_coded = Y.astype(\"category\", pd.api.types.CategoricalDtype(categories = \n",
    "                                                        classes)).cat.codes\n",
    "classes_dict = dict(enumerate(classes))\n",
    "print(\"Classes:\")\n",
    "print(\", \".join(classes))"
   ]
  },
  {
   "cell_type": "code",
   "execution_count": 8,
   "metadata": {},
   "outputs": [],
   "source": [
    "class_description = [\"correctly\", \n",
    "    \"throwing the elbows to the front\", \n",
    "    \"lifting the dumbbell only halfway\", \n",
    "   \"lowering the dumbbell only halfway\",\n",
    "    \"throwing the hips to the front\"]"
   ]
  },
  {
   "cell_type": "code",
   "execution_count": 9,
   "metadata": {},
   "outputs": [
    {
     "name": "stdout",
     "output_type": "stream",
     "text": [
      "Number of class  A: \"correctly\" examples -- 11158\n",
      "Number of class  B: \"throwing the elbows to the front\" examples -- 7593\n",
      "Number of class  C: \"lifting the dumbbell only halfway\" examples -- 6844\n",
      "Number of class  D: \"lowering the dumbbell only halfway\" examples -- 6432\n",
      "Number of class  E: \"throwing the hips to the front\" examples -- 7214\n"
     ]
    }
   ],
   "source": [
    "for label, label_class in classes_dict.items():\n",
    "    print(\"Number of class \",  label_class + \": \\\"\" + class_description[label] + \n",
    "          \"\\\"\" + \" examples --\", sum(Y_coded == label))"
   ]
  },
  {
   "cell_type": "code",
   "execution_count": 10,
   "metadata": {},
   "outputs": [],
   "source": [
    "reference = pd.DataFrame({'Class': classes, 'Description': class_description})\n",
    "ref_print = reference.to_string(index=False)"
   ]
  },
  {
   "cell_type": "markdown",
   "metadata": {},
   "source": [
    "#### Split into train and test sets. Y_train, Y_test will be used throughout, while X_all_train, X_all_test will be further transformed (using PCA dimensionality reduction) to use in some specifications."
   ]
  },
  {
   "cell_type": "code",
   "execution_count": 11,
   "metadata": {},
   "outputs": [],
   "source": [
    "X_all_train, X_all_test, Y_train, Y_test = train_test_split(X ,Y_coded, test_size=4000,\n",
    "                                                    random_state=3)"
   ]
  },
  {
   "cell_type": "markdown",
   "metadata": {},
   "source": [
    "#### Reduce features dimension with PCA, whiten."
   ]
  },
  {
   "cell_type": "code",
   "execution_count": 12,
   "metadata": {},
   "outputs": [],
   "source": [
    "pca30_dec = decomposition.PCA(n_components = 30, whiten = True).fit(X_all_train)\n",
    "X_pca30_train = pca30_dec.transform(X_all_train)\n",
    "X_pca30_test = pca30_dec.transform(X_all_test)"
   ]
  },
  {
   "cell_type": "markdown",
   "metadata": {},
   "source": [
    "#### Training and reporting function\n",
    "Will train and return the trained specified model. Will print model preformance metrics."
   ]
  },
  {
   "cell_type": "code",
   "execution_count": 13,
   "metadata": {},
   "outputs": [],
   "source": [
    "def run_model(X_train, Y_train, X_test, Y_test, model):\n",
    "    \"\"\"\n",
    "    Trains the specified model, calculates predictions, and returns and prints the\n",
    "    classification report and accuracy metric.\n",
    "    \"\"\"\n",
    "    print(\"Model:\", str(model).split(\"(\")[0], \"\\n\")\n",
    "    start_time = time.time()\n",
    "    trained_model = model.fit(X_train, Y_train)\n",
    "    elapsed_time = time.time() - start_time\n",
    "    predicted_Y_test = trained_model.predict(X_test)\n",
    "    predicted_Y_test = np.rint(predicted_Y_test)   ## Required by Random Forest\n",
    "    predicted_Y_train = trained_model.predict(X_train)\n",
    "    predicted_Y_train = np.rint(predicted_Y_train) ## ibid\n",
    "    print(\"Classification report on test set \\n\")\n",
    "    pred_activity = [classes_dict[label] for label in predicted_Y_test]\n",
    "    actual_activity = [classes_dict[label] for label in Y_test]\n",
    "    report = classification_report(pred_activity, actual_activity)\n",
    "    train_acc = accuracy_score(predicted_Y_train, Y_train)\n",
    "    test_acc =accuracy_score(predicted_Y_test, Y_test)\n",
    "    print(report)\n",
    "    print(\"Train Accuracy =\", str(format(train_acc, '.3f')))\n",
    "    print(\"Test Accuracy  =\", str(format(test_acc, '.3f')))\n",
    "    print(\"Training time:\", int(elapsed_time), \"seconds\")\n",
    "    return trained_model, report"
   ]
  },
  {
   "cell_type": "markdown",
   "metadata": {},
   "source": [
    "### K-Nearest Neighbors"
   ]
  },
  {
   "cell_type": "code",
   "execution_count": 14,
   "metadata": {},
   "outputs": [
    {
     "name": "stdout",
     "output_type": "stream",
     "text": [
      "Model: KNeighborsClassifier \n",
      "\n",
      "Classification report on test set \n",
      "\n",
      "             precision    recall  f1-score   support\n",
      "\n",
      "          A       1.00      1.00      1.00      1175\n",
      "          B       1.00      1.00      1.00       766\n",
      "          C       1.00      1.00      1.00       670\n",
      "          D       1.00      1.00      1.00       639\n",
      "          E       1.00      1.00      1.00       750\n",
      "\n",
      "avg / total       1.00      1.00      1.00      4000\n",
      "\n",
      "Train Accuracy = 1.000\n",
      "Test Accuracy  = 1.000\n",
      "Training time: 0 seconds\n"
     ]
    }
   ],
   "source": [
    "knn = KNeighborsClassifier(n_neighbors=1, p = 1)\n",
    "knn_trained, knn_report = run_model(X_all_train, Y_train, X_all_test, Y_test, knn)"
   ]
  },
  {
   "cell_type": "markdown",
   "metadata": {},
   "source": [
    "### Multilayer Perceptron Neural Network"
   ]
  },
  {
   "cell_type": "code",
   "execution_count": 15,
   "metadata": {},
   "outputs": [
    {
     "name": "stdout",
     "output_type": "stream",
     "text": [
      "Model: MLPClassifier \n",
      "\n",
      "Classification report on test set \n",
      "\n",
      "             precision    recall  f1-score   support\n",
      "\n",
      "          A       1.00      1.00      1.00      1178\n",
      "          B       0.99      1.00      1.00       765\n",
      "          C       0.99      0.99      0.99       665\n",
      "          D       0.99      0.99      0.99       638\n",
      "          E       1.00      0.99      0.99       754\n",
      "\n",
      "avg / total       0.99      0.99      0.99      4000\n",
      "\n",
      "Train Accuracy = 0.999\n",
      "Test Accuracy  = 0.995\n",
      "Training time: 41 seconds\n"
     ]
    }
   ],
   "source": [
    "mlp =  nn.MLPClassifier(hidden_layer_sizes=(100,), max_iter=1000, \n",
    "                            alpha=.0001, solver='adam', tol=1e-5, random_state=1,\n",
    "                            learning_rate_init=.0005, beta_1 = 0.9,\n",
    "                            beta_2 = 0.99) \n",
    "mlp_trained, mlp_report = run_model(X_pca30_train, Y_train, X_pca30_test, Y_test, mlp)"
   ]
  },
  {
   "cell_type": "markdown",
   "metadata": {},
   "source": [
    "### Random Forest"
   ]
  },
  {
   "cell_type": "code",
   "execution_count": 16,
   "metadata": {},
   "outputs": [
    {
     "name": "stdout",
     "output_type": "stream",
     "text": [
      "Model: RandomForestRegressor \n",
      "\n",
      "Classification report on test set \n",
      "\n",
      "             precision    recall  f1-score   support\n",
      "\n",
      "          A       1.00      1.00      1.00      1174\n",
      "          B       1.00      1.00      1.00       766\n",
      "          C       1.00      1.00      1.00       673\n",
      "          D       1.00      1.00      1.00       639\n",
      "          E       1.00      1.00      1.00       748\n",
      "\n",
      "avg / total       1.00      1.00      1.00      4000\n",
      "\n",
      "Train Accuracy = 1.000\n",
      "Test Accuracy  = 0.998\n",
      "Training time: 7 seconds\n"
     ]
    }
   ],
   "source": [
    "rf = RandomForestRegressor(n_estimators=30, random_state = 1, bootstrap = False, max_features='sqrt')\n",
    "rf_trained, rf_report = run_model(X_all_train, Y_train, X_all_test, Y_test, rf)"
   ]
  },
  {
   "cell_type": "markdown",
   "metadata": {},
   "source": [
    "### Gradient Boosting"
   ]
  },
  {
   "cell_type": "code",
   "execution_count": 17,
   "metadata": {},
   "outputs": [
    {
     "name": "stdout",
     "output_type": "stream",
     "text": [
      "Model: GradientBoostingClassifier \n",
      "\n",
      "Classification report on test set \n",
      "\n",
      "             precision    recall  f1-score   support\n",
      "\n",
      "          A       1.00      1.00      1.00      1175\n",
      "          B       1.00      1.00      1.00       767\n",
      "          C       1.00      1.00      1.00       670\n",
      "          D       1.00      1.00      1.00       640\n",
      "          E       1.00      1.00      1.00       748\n",
      "\n",
      "avg / total       1.00      1.00      1.00      4000\n",
      "\n",
      "Train Accuracy = 1.000\n",
      "Test Accuracy  = 1.000\n",
      "Training time: 36 seconds\n"
     ]
    }
   ],
   "source": [
    "gbm = GradientBoostingClassifier(learning_rate=0.8, n_estimators=100, max_depth=4)\n",
    "gbm_trained, gbm_report = run_model(X_all_train, Y_train, X_all_test, Y_test, gbm)"
   ]
  },
  {
   "cell_type": "markdown",
   "metadata": {},
   "source": [
    "### Prediction Time and Confusion Matrices"
   ]
  },
  {
   "cell_type": "code",
   "execution_count": 18,
   "metadata": {},
   "outputs": [],
   "source": [
    "def predict_and_time(trained_model, X):\n",
    "    \"\"\"\n",
    "    Calculates predictions and prints the time elapsed to make the predictions\n",
    "    Args:\n",
    "        trained_model: a trained (sklearn) model \n",
    "        X: a set of features\n",
    "    Returns:\n",
    "        predictions\n",
    "    \"\"\"\n",
    "    model_name = str(trained_model).split(\"(\")[0]\n",
    "    start_time = time.time()\n",
    "    predictions = trained_model.predict(X)\n",
    "    elapsed_time = time.time() - start_time\n",
    "    predictions = np.rint(predictions)   # Required by Random Forest\n",
    "    print(\"Time to calculate\", X.shape[0], \"predictions with\", model_name, \"model:\", \n",
    "          str(format(elapsed_time, '.4f')), \"seconds\")\n",
    "    return predictions"
   ]
  },
  {
   "cell_type": "code",
   "execution_count": 19,
   "metadata": {},
   "outputs": [
    {
     "name": "stdout",
     "output_type": "stream",
     "text": [
      "Time to calculate 4000 predictions with KNeighborsClassifier model: 0.1499 seconds\n"
     ]
    }
   ],
   "source": [
    "knn_predictions = predict_and_time(knn_trained, X_all_test)"
   ]
  },
  {
   "cell_type": "code",
   "execution_count": 20,
   "metadata": {},
   "outputs": [
    {
     "data": {
      "image/png": "[encoded data removed]",
      "text/plain": [
       "<matplotlib.figure.Figure at 0x1a1b2f9630>"
      ]
     },
     "metadata": {},
     "output_type": "display_data"
    }
   ],
   "source": [
    "cm_knn = confusion_matrix(Y_test, knn_predictions)\n",
    "heated_confusion_matrix(cm = cm_knn, labels = classes, cmap = plt.cm.PuRd, \n",
    "                        contrast = 3, model_name = \"KNN\")"
   ]
  },
  {
   "cell_type": "code",
   "execution_count": 21,
   "metadata": {},
   "outputs": [
    {
     "name": "stdout",
     "output_type": "stream",
     "text": [
      "Reference\n",
      "\n",
      "Class                         Description\n",
      "   A                           correctly\n",
      "   B    throwing the elbows to the front\n",
      "   C   lifting the dumbbell only halfway\n",
      "   D  lowering the dumbbell only halfway\n",
      "   E      throwing the hips to the front\n"
     ]
    }
   ],
   "source": [
    "print(\"Reference\\n\")\n",
    "print(ref_print)"
   ]
  },
  {
   "cell_type": "code",
   "execution_count": 22,
   "metadata": {},
   "outputs": [
    {
     "name": "stdout",
     "output_type": "stream",
     "text": [
      "Time to calculate 4000 predictions with GradientBoostingClassifier model: 0.0232 seconds\n"
     ]
    }
   ],
   "source": [
    "gbm_predictions = predict_and_time(gbm_trained, X_all_test)"
   ]
  },
  {
   "cell_type": "code",
   "execution_count": 23,
   "metadata": {},
   "outputs": [
    {
     "data": {
      "image/png": "[encoded data removed]",
      "text/plain": [
       "<matplotlib.figure.Figure at 0x1a1bb66dd8>"
      ]
     },
     "metadata": {},
     "output_type": "display_data"
    }
   ],
   "source": [
    "cm_gbm = confusion_matrix(Y_test, gbm_predictions)\n",
    "heated_confusion_matrix(cm = cm_gbm, labels = classes, cmap = plt.cm.BuPu, \n",
    "                        contrast = 3, model_name = \"GBM\", save_fig = True)"
   ]
  },
  {
   "cell_type": "code",
   "execution_count": 24,
   "metadata": {},
   "outputs": [
    {
     "name": "stdout",
     "output_type": "stream",
     "text": [
      "Time to calculate 4000 predictions with RandomForestRegressor model: 0.0305 seconds\n"
     ]
    }
   ],
   "source": [
    "rf_predictions = predict_and_time(rf_trained, X_all_test)"
   ]
  },
  {
   "cell_type": "code",
   "execution_count": 25,
   "metadata": {},
   "outputs": [
    {
     "data": {
      "image/png": "[encoded data removed]",
      "text/plain": [
       "<matplotlib.figure.Figure at 0x1a1b2f9400>"
      ]
     },
     "metadata": {},
     "output_type": "display_data"
    }
   ],
   "source": [
    "cm_rf = confusion_matrix(Y_test, rf_predictions)\n",
    "heated_confusion_matrix(cm = cm_rf, labels = classes, cmap = plt.cm.Blues, \n",
    "                           contrast = 3, model_name = \"Random Forest\")"
   ]
  },
  {
   "cell_type": "markdown",
   "metadata": {},
   "source": [
    "### Conclusion\n",
    "\n",
    "The best performing algorithms in terms of predictive ability were a Gradient Boosting and a K-Nearest specification which achieved over 99.9% accuracy, with one misclassification each out of 4000."
   ]
  },
  {
   "cell_type": "markdown",
   "metadata": {},
   "source": [
    "### Reference:\n",
    "\n",
    "**Velloso, E.; Bulling, A.; Gellersen, H.; Ugulino, W.; Fuks, H. (2013)** Qualitative Activity Recognition of Weight Lifting Exercises. Proceedings of 4th International Conference in Cooperation with SIGCHI (Augmented Human ’13) . Stuttgart, Germany: ACM SIGCHI"
   ]
  }
 ],
 "metadata": {
  "kernelspec": {
   "display_name": "Python 3",
   "language": "python",
   "name": "python3"
  },
  "language_info": {
   "codemirror_mode": {
    "name": "ipython",
    "version": 3
   },
   "file_extension": ".py",
   "mimetype": "text/x-python",
   "name": "python",
   "nbconvert_exporter": "python",
   "pygments_lexer": "ipython3",
   "version": "3.6.4"
  }
 },
 "nbformat": 4,
 "nbformat_minor": 2
}
